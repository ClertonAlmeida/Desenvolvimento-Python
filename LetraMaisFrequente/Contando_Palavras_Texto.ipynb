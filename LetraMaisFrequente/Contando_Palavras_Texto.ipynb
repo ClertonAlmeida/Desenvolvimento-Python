{
 "cells": [
  {
   "cell_type": "markdown",
   "id": "8b5234b0",
   "metadata": {},
   "source": [
    "# Testando o uso de diversas coleções"
   ]
  },
  {
   "cell_type": "code",
   "execution_count": 1,
   "id": "9e737080",
   "metadata": {},
   "outputs": [],
   "source": [
    "texto1 = '''Por enquanto, lemos nosso arquivo de registro linha por linha e armazenamos as linhas em uma lista. Estamos, então, iterando sobre nosso arquivo, isto é, repetindo o mesmo procedimento sobre ele para se obter cada linha.\n",
    "\n",
    "Conseguimos fazer isso porque nosso arquivo aberto no Python é um iterável, um tipo de objeto que possibilita a ação de repetição sobre seus elementos, como listas e strings.'''"
   ]
  },
  {
   "cell_type": "code",
   "execution_count": 2,
   "id": "fef7c3c2",
   "metadata": {},
   "outputs": [],
   "source": [
    "texto2 = '''Nesse post, conhecemos uma alternativa para a lista (e também para a funcionalidade de compreensão de lista!) que consegue poupar memória, trabalhando de outro jeito. Podemos até concluir que é boa prática usar iteradores em leitura de arquivos, por garantia.\n",
    "\n",
    "Além disso, entendemos o que são iteráveis e iteradores, e até demos uma espiada nos geradores!\n",
    "\n",
    "Quer aprender mais sobre conjuntos e listas no Python? Se se interessou pelo assunto e gostaria de entender mais sobre tópicos similares, dê uma olhada em nossos posts no blog sobre operações básicas com listas, como adicionar elementos em uma lista, diferença entre == e is no Python, ordenação de lista e compreensão de lista.\n",
    "\n",
    "E aí? Gostou de conhecer essa funcionalidade no Python? Quer se aprofundar mais na linguagem? Na Alura, temos diversos cursos sobre Python que você pode aproveitar muito, confira!'''"
   ]
  },
  {
   "cell_type": "markdown",
   "id": "a4e04288",
   "metadata": {},
   "source": [
    "# Contando as palavras do texto"
   ]
  },
  {
   "cell_type": "code",
   "execution_count": 8,
   "id": "ab07b5a4",
   "metadata": {},
   "outputs": [
    {
     "data": {
      "text/plain": [
       "['Por',\n",
       " 'enquanto,',\n",
       " 'lemos',\n",
       " 'nosso',\n",
       " 'arquivo',\n",
       " 'de',\n",
       " 'registro',\n",
       " 'linha',\n",
       " 'por',\n",
       " 'linha',\n",
       " 'e',\n",
       " 'armazenamos',\n",
       " 'as',\n",
       " 'linhas',\n",
       " 'em',\n",
       " 'uma',\n",
       " 'lista.',\n",
       " 'Estamos,',\n",
       " 'então,',\n",
       " 'iterando',\n",
       " 'sobre',\n",
       " 'nosso',\n",
       " 'arquivo,',\n",
       " 'isto',\n",
       " 'é,',\n",
       " 'repetindo',\n",
       " 'o',\n",
       " 'mesmo',\n",
       " 'procedimento',\n",
       " 'sobre',\n",
       " 'ele',\n",
       " 'para',\n",
       " 'se',\n",
       " 'obter',\n",
       " 'cada',\n",
       " 'linha.',\n",
       " 'Conseguimos',\n",
       " 'fazer',\n",
       " 'isso',\n",
       " 'porque',\n",
       " 'nosso',\n",
       " 'arquivo',\n",
       " 'aberto',\n",
       " 'no',\n",
       " 'Python',\n",
       " 'é',\n",
       " 'um',\n",
       " 'iterável,',\n",
       " 'um',\n",
       " 'tipo',\n",
       " 'de',\n",
       " 'objeto',\n",
       " 'que',\n",
       " 'possibilita',\n",
       " 'a',\n",
       " 'ação',\n",
       " 'de',\n",
       " 'repetição',\n",
       " 'sobre',\n",
       " 'seus',\n",
       " 'elementos,',\n",
       " 'como',\n",
       " 'listas',\n",
       " 'e',\n",
       " 'strings.']"
      ]
     },
     "execution_count": 8,
     "metadata": {},
     "output_type": "execute_result"
    }
   ],
   "source": [
    "texto1.split( )"
   ]
  },
  {
   "cell_type": "code",
   "execution_count": 20,
   "id": "36967d3d",
   "metadata": {},
   "outputs": [
    {
     "data": {
      "text/plain": [
       "Counter({'p': 10,\n",
       "         'o': 44,\n",
       "         'r': 22,\n",
       "         ' ': 63,\n",
       "         'e': 39,\n",
       "         'n': 19,\n",
       "         'q': 6,\n",
       "         'u': 11,\n",
       "         'a': 26,\n",
       "         't': 20,\n",
       "         ',': 7,\n",
       "         'l': 11,\n",
       "         'm': 14,\n",
       "         's': 33,\n",
       "         'i': 23,\n",
       "         'v': 4,\n",
       "         'd': 7,\n",
       "         'g': 3,\n",
       "         'h': 5,\n",
       "         'z': 2,\n",
       "         '.': 3,\n",
       "         'ã': 3,\n",
       "         'b': 7,\n",
       "         'é': 2,\n",
       "         'c': 4,\n",
       "         '\\n': 2,\n",
       "         'f': 1,\n",
       "         'y': 1,\n",
       "         'á': 1,\n",
       "         'j': 1,\n",
       "         'ç': 2})"
      ]
     },
     "execution_count": 20,
     "metadata": {},
     "output_type": "execute_result"
    }
   ],
   "source": [
    "collections.Counter(texto1.lower())"
   ]
  },
  {
   "cell_type": "code",
   "execution_count": 38,
   "id": "04234b74",
   "metadata": {},
   "outputs": [
    {
     "name": "stdout",
     "output_type": "stream",
     "text": [
      "  => 15.91%\n",
      "o => 11.11%\n",
      "e => 9.85%\n",
      "s => 8.33%\n",
      "a => 6.57%\n",
      "i => 5.81%\n",
      "r => 5.56%\n",
      "t => 5.05%\n",
      "n => 4.80%\n",
      "m => 3.54%\n"
     ]
    }
   ],
   "source": [
    "# crio a função para analisar a letra mais frequente\n",
    "def analisa_frequencia_de_letras(texto):\n",
    "    aparicoes = collections.Counter(texto.lower()) #converto todas as letras para minusculas, depois conto elas\n",
    "    total_de_caracteres = sum(aparicoes.values()) # somo todos os valores das letras, para saber o total de caracteres\n",
    "    \n",
    "    # faço o for para andar dentro do dicionário para fazer a frequencia que a letra aparece no texto \n",
    "    proporcoes = [(letra, frequencia / total_de_caracteres) for letra, frequencia in aparicoes.items()] \n",
    "\n",
    "    # utilizo o dict()construtor constrói dicionários diretamente de sequências de pares chave-valor\n",
    "    proporcoes = collections.Counter(dict(proporcoes)) \n",
    "    # utilizo o most_common para mostrar apenas os 10 mais frequentes e depois abro um for para mostrar o resultado\n",
    "    mais_comuns = proporcoes.most_common(10)\n",
    "    for caractere, proporcao in mais_comuns:\n",
    "        print(\"{} => {:.2f}%\".format(caractere, proporcao * 100))\n",
    "\n",
    "analisa_frequencia_de_letras(texto1)\n",
    "\n"
   ]
  },
  {
   "cell_type": "code",
   "execution_count": 39,
   "id": "9864b77f",
   "metadata": {},
   "outputs": [
    {
     "name": "stdout",
     "output_type": "stream",
     "text": [
      "  => 15.57%\n",
      "e => 10.27%\n",
      "o => 8.54%\n",
      "a => 8.54%\n",
      "s => 7.73%\n",
      "r => 5.65%\n",
      "n => 4.96%\n",
      "i => 4.96%\n",
      "t => 4.61%\n",
      "d => 3.58%\n"
     ]
    }
   ],
   "source": [
    "analisa_frequencia_de_letras(texto2)"
   ]
  },
  {
   "cell_type": "code",
   "execution_count": null,
   "id": "f452829d",
   "metadata": {},
   "outputs": [],
   "source": []
  }
 ],
 "metadata": {
  "kernelspec": {
   "display_name": "Python 3 (ipykernel)",
   "language": "python",
   "name": "python3"
  },
  "language_info": {
   "codemirror_mode": {
    "name": "ipython",
    "version": 3
   },
   "file_extension": ".py",
   "mimetype": "text/x-python",
   "name": "python",
   "nbconvert_exporter": "python",
   "pygments_lexer": "ipython3",
   "version": "3.9.7"
  }
 },
 "nbformat": 4,
 "nbformat_minor": 5
}
